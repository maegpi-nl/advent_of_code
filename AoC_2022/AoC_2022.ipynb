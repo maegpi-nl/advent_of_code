{
 "cells": [
  {
   "cell_type": "markdown",
   "metadata": {},
   "source": [
    "# Advent of Code 2022"
   ]
  },
  {
   "cell_type": "code",
   "execution_count": 523,
   "metadata": {},
   "outputs": [],
   "source": [
    "import numpy as np\n",
    "import pandas as pd\n",
    "import matplotlib.pyplot as plt"
   ]
  },
  {
   "cell_type": "markdown",
   "metadata": {},
   "source": [
    "0.0 - Functions"
   ]
  },
  {
   "cell_type": "code",
   "execution_count": 524,
   "metadata": {},
   "outputs": [],
   "source": [
    "def make_hist_box(df, attrb_list):\n",
    "\n",
    "    fig, axs =plt.subplots(len(attrb_list),2,figsize=(15,5), constrained_layout=True)\n",
    "    axs = axs.flatten()\n",
    "    i = 0\n",
    "    for attr in attrb_list:\n",
    "        data_title = df[attr].name\n",
    "        #sort values for Hist\n",
    "        counts, bins = np.histogram(df[attr].sort_values(), bins=10)\n",
    "\n",
    "        #Histogram        \n",
    "        axs[i].set_title(data_title)\n",
    "        axs[i].set_xlabel(data_title)\n",
    "        axs[i].set_ylabel(\"Frequency\")\n",
    "        axs[i].hist(x=bins[:-1], bins=bins, weights=counts, facecolor='#2ab0ff', edgecolor='#e0e0e0', linewidth=0.5, alpha=0.7)\n",
    "\n",
    "        #Boxplot\n",
    "        axs[i+1].set_title(data_title)\n",
    "        axs[i+1].boxplot(x=df[attr],vert=False)\n",
    "\n",
    "        i += 2\n",
    "    \n",
    "    return"
   ]
  },
  {
   "cell_type": "markdown",
   "metadata": {},
   "source": [
    "## 1.0 - Day 1"
   ]
  },
  {
   "cell_type": "markdown",
   "metadata": {},
   "source": [
    "### 1.1 - Part 1"
   ]
  },
  {
   "cell_type": "code",
   "execution_count": 525,
   "metadata": {},
   "outputs": [
    {
     "data": {
      "text/html": [
       "<div>\n",
       "<style scoped>\n",
       "    .dataframe tbody tr th:only-of-type {\n",
       "        vertical-align: middle;\n",
       "    }\n",
       "\n",
       "    .dataframe tbody tr th {\n",
       "        vertical-align: top;\n",
       "    }\n",
       "\n",
       "    .dataframe thead th {\n",
       "        text-align: right;\n",
       "    }\n",
       "</style>\n",
       "<table border=\"1\" class=\"dataframe\">\n",
       "  <thead>\n",
       "    <tr style=\"text-align: right;\">\n",
       "      <th></th>\n",
       "      <th>Elf</th>\n",
       "      <th>Calories</th>\n",
       "    </tr>\n",
       "  </thead>\n",
       "  <tbody>\n",
       "    <tr>\n",
       "      <th>0</th>\n",
       "      <td>Elf_0</td>\n",
       "      <td>45508</td>\n",
       "    </tr>\n",
       "    <tr>\n",
       "      <th>1</th>\n",
       "      <td>Elf_1</td>\n",
       "      <td>12219</td>\n",
       "    </tr>\n",
       "    <tr>\n",
       "      <th>2</th>\n",
       "      <td>Elf_2</td>\n",
       "      <td>38614</td>\n",
       "    </tr>\n",
       "    <tr>\n",
       "      <th>3</th>\n",
       "      <td>Elf_3</td>\n",
       "      <td>43704</td>\n",
       "    </tr>\n",
       "    <tr>\n",
       "      <th>4</th>\n",
       "      <td>Elf_4</td>\n",
       "      <td>45119</td>\n",
       "    </tr>\n",
       "    <tr>\n",
       "      <th>...</th>\n",
       "      <td>...</td>\n",
       "      <td>...</td>\n",
       "    </tr>\n",
       "    <tr>\n",
       "      <th>236</th>\n",
       "      <td>Elf_236</td>\n",
       "      <td>42386</td>\n",
       "    </tr>\n",
       "    <tr>\n",
       "      <th>237</th>\n",
       "      <td>Elf_237</td>\n",
       "      <td>49942</td>\n",
       "    </tr>\n",
       "    <tr>\n",
       "      <th>238</th>\n",
       "      <td>Elf_238</td>\n",
       "      <td>49335</td>\n",
       "    </tr>\n",
       "    <tr>\n",
       "      <th>239</th>\n",
       "      <td>Elf_239</td>\n",
       "      <td>51078</td>\n",
       "    </tr>\n",
       "    <tr>\n",
       "      <th>240</th>\n",
       "      <td>Elf_240</td>\n",
       "      <td>36829</td>\n",
       "    </tr>\n",
       "  </tbody>\n",
       "</table>\n",
       "<p>241 rows × 2 columns</p>\n",
       "</div>"
      ],
      "text/plain": [
       "         Elf  Calories\n",
       "0      Elf_0     45508\n",
       "1      Elf_1     12219\n",
       "2      Elf_2     38614\n",
       "3      Elf_3     43704\n",
       "4      Elf_4     45119\n",
       "..       ...       ...\n",
       "236  Elf_236     42386\n",
       "237  Elf_237     49942\n",
       "238  Elf_238     49335\n",
       "239  Elf_239     51078\n",
       "240  Elf_240     36829\n",
       "\n",
       "[241 rows x 2 columns]"
      ]
     },
     "execution_count": 525,
     "metadata": {},
     "output_type": "execute_result"
    }
   ],
   "source": [
    "df1 = pd.DataFrame(columns=['Elf', 'Calories'])\n",
    "i = 0\n",
    "calories = 0\n",
    "with open(r'./day_1/input.txt') as file:\n",
    "    for line in file:\n",
    "        if line.strip():\n",
    "            line   = line.rstrip()\n",
    "            calories += int(line)\n",
    "        else:            \n",
    "            elf = \"Elf_\" + str(i)\n",
    "            df1.loc[len(df1.index)] = [elf, calories]\n",
    "            calories = 0\n",
    "            i += 1\n",
    "    \n",
    "df1"
   ]
  },
  {
   "cell_type": "code",
   "execution_count": 526,
   "metadata": {},
   "outputs": [
    {
     "data": {
      "image/png": "[encoded data removed]",
      "text/plain": [
       "<Figure size 1500x500 with 2 Axes>"
      ]
     },
     "metadata": {},
     "output_type": "display_data"
    }
   ],
   "source": [
    "make_hist_box(df1, ['Calories'])\n"
   ]
  },
  {
   "cell_type": "code",
   "execution_count": 527,
   "metadata": {},
   "outputs": [
    {
     "data": {
      "text/plain": [
       "74198"
      ]
     },
     "execution_count": 527,
     "metadata": {},
     "output_type": "execute_result"
    }
   ],
   "source": [
    "df1['Calories'].max()"
   ]
  },
  {
   "cell_type": "code",
   "execution_count": 528,
   "metadata": {},
   "outputs": [
    {
     "data": {
      "text/plain": [
       "209914"
      ]
     },
     "execution_count": 528,
     "metadata": {},
     "output_type": "execute_result"
    }
   ],
   "source": [
    "df1_2 = df1.sort_values(by= 'Calories', ascending= False)[:3]\n",
    "df1_2['Calories'].sum()"
   ]
  },
  {
   "cell_type": "markdown",
   "metadata": {},
   "source": [
    "## Day 2"
   ]
  },
  {
   "cell_type": "markdown",
   "metadata": {},
   "source": [
    "### Part 1"
   ]
  },
  {
   "cell_type": "code",
   "execution_count": 529,
   "metadata": {},
   "outputs": [
    {
     "data": {
      "text/html": [
       "<div>\n",
       "<style scoped>\n",
       "    .dataframe tbody tr th:only-of-type {\n",
       "        vertical-align: middle;\n",
       "    }\n",
       "\n",
       "    .dataframe tbody tr th {\n",
       "        vertical-align: top;\n",
       "    }\n",
       "\n",
       "    .dataframe thead th {\n",
       "        text-align: right;\n",
       "    }\n",
       "</style>\n",
       "<table border=\"1\" class=\"dataframe\">\n",
       "  <thead>\n",
       "    <tr style=\"text-align: right;\">\n",
       "      <th></th>\n",
       "      <th>input</th>\n",
       "      <th>score_1</th>\n",
       "      <th>score_2</th>\n",
       "    </tr>\n",
       "  </thead>\n",
       "  <tbody>\n",
       "    <tr>\n",
       "      <th>0</th>\n",
       "      <td>B Y</td>\n",
       "      <td>5</td>\n",
       "      <td>5</td>\n",
       "    </tr>\n",
       "    <tr>\n",
       "      <th>1</th>\n",
       "      <td>A Z</td>\n",
       "      <td>3</td>\n",
       "      <td>8</td>\n",
       "    </tr>\n",
       "    <tr>\n",
       "      <th>2</th>\n",
       "      <td>A Z</td>\n",
       "      <td>3</td>\n",
       "      <td>8</td>\n",
       "    </tr>\n",
       "    <tr>\n",
       "      <th>3</th>\n",
       "      <td>C Z</td>\n",
       "      <td>6</td>\n",
       "      <td>7</td>\n",
       "    </tr>\n",
       "    <tr>\n",
       "      <th>4</th>\n",
       "      <td>B Y</td>\n",
       "      <td>5</td>\n",
       "      <td>5</td>\n",
       "    </tr>\n",
       "    <tr>\n",
       "      <th>...</th>\n",
       "      <td>...</td>\n",
       "      <td>...</td>\n",
       "      <td>...</td>\n",
       "    </tr>\n",
       "    <tr>\n",
       "      <th>2495</th>\n",
       "      <td>A Z</td>\n",
       "      <td>3</td>\n",
       "      <td>8</td>\n",
       "    </tr>\n",
       "    <tr>\n",
       "      <th>2496</th>\n",
       "      <td>B X</td>\n",
       "      <td>1</td>\n",
       "      <td>1</td>\n",
       "    </tr>\n",
       "    <tr>\n",
       "      <th>2497</th>\n",
       "      <td>B Z</td>\n",
       "      <td>9</td>\n",
       "      <td>9</td>\n",
       "    </tr>\n",
       "    <tr>\n",
       "      <th>2498</th>\n",
       "      <td>B Y</td>\n",
       "      <td>5</td>\n",
       "      <td>5</td>\n",
       "    </tr>\n",
       "    <tr>\n",
       "      <th>2499</th>\n",
       "      <td>A Z</td>\n",
       "      <td>3</td>\n",
       "      <td>8</td>\n",
       "    </tr>\n",
       "  </tbody>\n",
       "</table>\n",
       "<p>2500 rows × 3 columns</p>\n",
       "</div>"
      ],
      "text/plain": [
       "     input  score_1  score_2\n",
       "0      B Y        5        5\n",
       "1      A Z        3        8\n",
       "2      A Z        3        8\n",
       "3      C Z        6        7\n",
       "4      B Y        5        5\n",
       "...    ...      ...      ...\n",
       "2495   A Z        3        8\n",
       "2496   B X        1        1\n",
       "2497   B Z        9        9\n",
       "2498   B Y        5        5\n",
       "2499   A Z        3        8\n",
       "\n",
       "[2500 rows x 3 columns]"
      ]
     },
     "execution_count": 529,
     "metadata": {},
     "output_type": "execute_result"
    }
   ],
   "source": [
    "elf_guide = {'A':1, 'B':2, 'C':3}\n",
    "you_guide = {'X': elf_guide['A'], 'Y':elf_guide['B'], 'Z':elf_guide['C'] }\n",
    "conditions_1 = {'A X': 3, 'A Y': 6, 'A Z': 0, 'B X': 0, 'B Y': 3, 'B Z': 6, 'C X': 6, 'C Y': 0, 'C Z': 3 }\n",
    "conditions_2 = {'X': 2, 'Y': 0, 'Z': 1} #x lose, y draw, z win\n",
    "condition_3 = {'X': 0, 'Y': 3, 'Z': 6}\n",
    "alphab = ['A', 'B', 'C']\n",
    "df2 = pd.DataFrame(columns=['input', 'score_1', 'score_2'])\n",
    "\n",
    "score_1 = 0\n",
    "score_2 = 0\n",
    "with open(r'./day_2/input.txt') as file:\n",
    "    for count, line in enumerate(file):\n",
    "        line = line.rstrip()\n",
    "        score_1 = conditions_1[line] + you_guide[line[2]]\n",
    "        val_1 = ((conditions_2[line[2]] + elf_guide[line[0]]) %3)-1\n",
    "        return_hand = alphab[val_1] \n",
    "        score_2 = condition_3[line[2]] + elf_guide[return_hand]\n",
    "        df2.loc[count] = [line, score_1, score_2]\n",
    "df2"
   ]
  },
  {
   "cell_type": "code",
   "execution_count": 530,
   "metadata": {},
   "outputs": [
    {
     "data": {
      "text/plain": [
       "11603"
      ]
     },
     "execution_count": 530,
     "metadata": {},
     "output_type": "execute_result"
    }
   ],
   "source": [
    "df2['score_1'].sum()"
   ]
  },
  {
   "cell_type": "code",
   "execution_count": 531,
   "metadata": {},
   "outputs": [
    {
     "data": {
      "text/plain": [
       "12725"
      ]
     },
     "execution_count": 531,
     "metadata": {},
     "output_type": "execute_result"
    }
   ],
   "source": [
    "df2['score_2'].sum()"
   ]
  },
  {
   "cell_type": "markdown",
   "metadata": {},
   "source": [
    "##Day 3\n",
    "### Part 1"
   ]
  },
  {
   "cell_type": "code",
   "execution_count": 532,
   "metadata": {},
   "outputs": [
    {
     "data": {
      "text/html": [
       "<div>\n",
       "<style scoped>\n",
       "    .dataframe tbody tr th:only-of-type {\n",
       "        vertical-align: middle;\n",
       "    }\n",
       "\n",
       "    .dataframe tbody tr th {\n",
       "        vertical-align: top;\n",
       "    }\n",
       "\n",
       "    .dataframe thead th {\n",
       "        text-align: right;\n",
       "    }\n",
       "</style>\n",
       "<table border=\"1\" class=\"dataframe\">\n",
       "  <thead>\n",
       "    <tr style=\"text-align: right;\">\n",
       "      <th></th>\n",
       "      <th>item</th>\n",
       "      <th>prority</th>\n",
       "      <th>score</th>\n",
       "    </tr>\n",
       "  </thead>\n",
       "  <tbody>\n",
       "    <tr>\n",
       "      <th>0</th>\n",
       "      <td>MVWpzTTrTFNNLtssjV</td>\n",
       "      <td>V</td>\n",
       "      <td>48</td>\n",
       "    </tr>\n",
       "    <tr>\n",
       "      <th>1</th>\n",
       "      <td>hRJncnJCnhPCnBSbCQRhhQRPFHmsbHLzbLNHsjNNFmGGGsGF</td>\n",
       "      <td>b</td>\n",
       "      <td>2</td>\n",
       "    </tr>\n",
       "    <tr>\n",
       "      <th>2</th>\n",
       "      <td>lSBQJBBBBcnccnQvBnPQznfrgwlrTZfDwTfWqrrpgMpw</td>\n",
       "      <td>l</td>\n",
       "      <td>12</td>\n",
       "    </tr>\n",
       "    <tr>\n",
       "      <th>3</th>\n",
       "      <td>sRPgrzSgrSbfTrgspBPsDWWTmdnvdZWZwTmwvdmd</td>\n",
       "      <td>T</td>\n",
       "      <td>46</td>\n",
       "    </tr>\n",
       "    <tr>\n",
       "      <th>4</th>\n",
       "      <td>tVGpCGqCGjlHcNGVNHZDmnZMWdWMWCdZDvnZ</td>\n",
       "      <td>C</td>\n",
       "      <td>29</td>\n",
       "    </tr>\n",
       "    <tr>\n",
       "      <th>...</th>\n",
       "      <td>...</td>\n",
       "      <td>...</td>\n",
       "      <td>...</td>\n",
       "    </tr>\n",
       "    <tr>\n",
       "      <th>295</th>\n",
       "      <td>tZHHSRmNHcgmNzpDPJtttqjLqdpL</td>\n",
       "      <td>t</td>\n",
       "      <td>20</td>\n",
       "    </tr>\n",
       "    <tr>\n",
       "      <th>296</th>\n",
       "      <td>HbNbZmcHQJbsFWvs</td>\n",
       "      <td>b</td>\n",
       "      <td>2</td>\n",
       "    </tr>\n",
       "    <tr>\n",
       "      <th>297</th>\n",
       "      <td>VgPNWGbgSjGjfhRRFfzThtmtzF</td>\n",
       "      <td>f</td>\n",
       "      <td>6</td>\n",
       "    </tr>\n",
       "    <tr>\n",
       "      <th>298</th>\n",
       "      <td>qLCQJBqqcPPmLHhHFz</td>\n",
       "      <td>L</td>\n",
       "      <td>38</td>\n",
       "    </tr>\n",
       "    <tr>\n",
       "      <th>299</th>\n",
       "      <td>CcJvplQswNgZlNPSbS</td>\n",
       "      <td>l</td>\n",
       "      <td>12</td>\n",
       "    </tr>\n",
       "  </tbody>\n",
       "</table>\n",
       "<p>300 rows × 3 columns</p>\n",
       "</div>"
      ],
      "text/plain": [
       "                                                 item prority  score\n",
       "0                                  MVWpzTTrTFNNLtssjV       V     48\n",
       "1    hRJncnJCnhPCnBSbCQRhhQRPFHmsbHLzbLNHsjNNFmGGGsGF       b      2\n",
       "2        lSBQJBBBBcnccnQvBnPQznfrgwlrTZfDwTfWqrrpgMpw       l     12\n",
       "3            sRPgrzSgrSbfTrgspBPsDWWTmdnvdZWZwTmwvdmd       T     46\n",
       "4                tVGpCGqCGjlHcNGVNHZDmnZMWdWMWCdZDvnZ       C     29\n",
       "..                                                ...     ...    ...\n",
       "295                      tZHHSRmNHcgmNzpDPJtttqjLqdpL       t     20\n",
       "296                                  HbNbZmcHQJbsFWvs       b      2\n",
       "297                        VgPNWGbgSjGjfhRRFfzThtmtzF       f      6\n",
       "298                                qLCQJBqqcPPmLHhHFz       L     38\n",
       "299                                CcJvplQswNgZlNPSbS       l     12\n",
       "\n",
       "[300 rows x 3 columns]"
      ]
     },
     "execution_count": 532,
     "metadata": {},
     "output_type": "execute_result"
    }
   ],
   "source": [
    "\n",
    "\n",
    "df3 = pd.DataFrame(columns=['item', 'prority', 'score'])\n",
    "with open(r'./day_3/input.txt') as file:\n",
    "    for count, line in enumerate(file):\n",
    "        line = line.rstrip()\n",
    "        str_length = int(len(line)/2)\n",
    "        #print(str_length)\n",
    "        alpha_set_1 = set(line[:str_length])\n",
    "        alpha_set_2 = set(line[str_length:])\n",
    "        for chara in alpha_set_1:\n",
    "            if chara in alpha_set_2:\n",
    "                if chara.isupper():\n",
    "                    chara_score = ord(chara)-38\n",
    "                else:\n",
    "                    chara_score = ord(chara)-96\n",
    "                df3.loc[count]=[line, chara, chara_score]\n",
    "\n",
    "df3\n",
    "        \n",
    "        \n",
    "        "
   ]
  },
  {
   "cell_type": "code",
   "execution_count": 533,
   "metadata": {},
   "outputs": [
    {
     "data": {
      "text/plain": [
       "7701"
      ]
     },
     "execution_count": 533,
     "metadata": {},
     "output_type": "execute_result"
    }
   ],
   "source": [
    "df3['score'].sum()"
   ]
  },
  {
   "cell_type": "markdown",
   "metadata": {},
   "source": [
    "### Part 2"
   ]
  },
  {
   "cell_type": "code",
   "execution_count": 534,
   "metadata": {},
   "outputs": [
    {
     "data": {
      "text/plain": [
       "300"
      ]
     },
     "execution_count": 534,
     "metadata": {},
     "output_type": "execute_result"
    }
   ],
   "source": [
    "df3['item'].size"
   ]
  },
  {
   "cell_type": "code",
   "execution_count": 535,
   "metadata": {},
   "outputs": [
    {
     "data": {
      "text/html": [
       "<div>\n",
       "<style scoped>\n",
       "    .dataframe tbody tr th:only-of-type {\n",
       "        vertical-align: middle;\n",
       "    }\n",
       "\n",
       "    .dataframe tbody tr th {\n",
       "        vertical-align: top;\n",
       "    }\n",
       "\n",
       "    .dataframe thead th {\n",
       "        text-align: right;\n",
       "    }\n",
       "</style>\n",
       "<table border=\"1\" class=\"dataframe\">\n",
       "  <thead>\n",
       "    <tr style=\"text-align: right;\">\n",
       "      <th></th>\n",
       "      <th>group</th>\n",
       "      <th>score</th>\n",
       "    </tr>\n",
       "  </thead>\n",
       "  <tbody>\n",
       "    <tr>\n",
       "      <th>0</th>\n",
       "      <td>z</td>\n",
       "      <td>26</td>\n",
       "    </tr>\n",
       "    <tr>\n",
       "      <th>1</th>\n",
       "      <td>p</td>\n",
       "      <td>16</td>\n",
       "    </tr>\n",
       "    <tr>\n",
       "      <th>2</th>\n",
       "      <td>F</td>\n",
       "      <td>32</td>\n",
       "    </tr>\n",
       "    <tr>\n",
       "      <th>3</th>\n",
       "      <td>s</td>\n",
       "      <td>19</td>\n",
       "    </tr>\n",
       "    <tr>\n",
       "      <th>4</th>\n",
       "      <td>r</td>\n",
       "      <td>18</td>\n",
       "    </tr>\n",
       "    <tr>\n",
       "      <th>...</th>\n",
       "      <td>...</td>\n",
       "      <td>...</td>\n",
       "    </tr>\n",
       "    <tr>\n",
       "      <th>95</th>\n",
       "      <td>R</td>\n",
       "      <td>44</td>\n",
       "    </tr>\n",
       "    <tr>\n",
       "      <th>96</th>\n",
       "      <td>z</td>\n",
       "      <td>26</td>\n",
       "    </tr>\n",
       "    <tr>\n",
       "      <th>97</th>\n",
       "      <td>L</td>\n",
       "      <td>38</td>\n",
       "    </tr>\n",
       "    <tr>\n",
       "      <th>98</th>\n",
       "      <td>J</td>\n",
       "      <td>36</td>\n",
       "    </tr>\n",
       "    <tr>\n",
       "      <th>99</th>\n",
       "      <td>P</td>\n",
       "      <td>42</td>\n",
       "    </tr>\n",
       "  </tbody>\n",
       "</table>\n",
       "<p>100 rows × 2 columns</p>\n",
       "</div>"
      ],
      "text/plain": [
       "   group  score\n",
       "0      z     26\n",
       "1      p     16\n",
       "2      F     32\n",
       "3      s     19\n",
       "4      r     18\n",
       "..   ...    ...\n",
       "95     R     44\n",
       "96     z     26\n",
       "97     L     38\n",
       "98     J     36\n",
       "99     P     42\n",
       "\n",
       "[100 rows x 2 columns]"
      ]
     },
     "execution_count": 535,
     "metadata": {},
     "output_type": "execute_result"
    }
   ],
   "source": [
    "df3_2 = pd.DataFrame(columns=['group', 'score'])\n",
    "j = 0\n",
    "i = 0\n",
    "for k in range(int(len(df3)/3)):\n",
    "    elf_1 = set(df3.iloc[i, 0])\n",
    "    elf_2 = set(df3.iloc[i+1, 0])\n",
    "    elf_3 = set(df3.iloc[i+2, 0])\n",
    "    for chara in elf_1:\n",
    "        if chara in elf_2 and chara in elf_3:\n",
    "            if chara.isupper():\n",
    "                chara_score = ord(chara)-38\n",
    "            else:\n",
    "                chara_score = ord(chara)-96\n",
    "            df3_2.loc[j] = [chara, chara_score]\n",
    "    i += 3\n",
    "    j += 1\n",
    "df3_2\n",
    "\n"
   ]
  },
  {
   "cell_type": "code",
   "execution_count": 536,
   "metadata": {},
   "outputs": [
    {
     "data": {
      "text/plain": [
       "2644"
      ]
     },
     "execution_count": 536,
     "metadata": {},
     "output_type": "execute_result"
    }
   ],
   "source": [
    "df3_2['score'].sum()"
   ]
  },
  {
   "cell_type": "markdown",
   "metadata": {},
   "source": [
    "## Day 3\n",
    "### Part 1"
   ]
  },
  {
   "cell_type": "code",
   "execution_count": 537,
   "metadata": {},
   "outputs": [
    {
     "name": "stdout",
     "output_type": "stream",
     "text": [
      "576\n",
      "905\n"
     ]
    }
   ],
   "source": [
    "overlap_counter = 0\n",
    "cross_counter = 0\n",
    "with open(r'./day_4/input.txt') as file:\n",
    "    for count, line in enumerate(file):\n",
    "        line = line.rstrip()\n",
    "        line = line.split(',')\n",
    "        elf_1 = line[0].split('-')\n",
    "        elf_2 = line[1].split('-')\n",
    "        if (int(elf_1[0]) >= int(elf_2[0])) & (int(elf_1[1]) <= int(elf_2[1])):\n",
    "            overlap_counter += 1\n",
    "        elif (int(elf_2[0]) >= int(elf_1[0])) & (int(elf_2[1]) <= int(elf_1[1])):\n",
    "            overlap_counter += 1\n",
    "        if (int(elf_2[0]) <= int(elf_1[0]) <= int(elf_2[1])) | (int(elf_2[0]) <= int(elf_1[1]) <= int(elf_2[1])) | (int(elf_1[0]) <= int(elf_2[0]) <= int(elf_1[1])) | (int(elf_1[0]) <= int(elf_2[1]) <= int(elf_1[1])):\n",
    "            cross_counter += 1\n",
    "print(f'{overlap_counter}\\n{cross_counter}')"
   ]
  },
  {
   "cell_type": "markdown",
   "metadata": {},
   "source": [
    "## Day 5\n",
    "### Part 1"
   ]
  },
  {
   "cell_type": "code",
   "execution_count": 538,
   "metadata": {},
   "outputs": [
    {
     "name": "stdout",
     "output_type": "stream",
     "text": [
      "[[' ', 'Z', 'V', 'T', 'B', 'J', 'G', 'R'], [' ', ' ', ' ', ' ', 'L', 'V', 'R', 'J'], [' ', ' ', ' ', ' ', ' ', 'F', 'Q', 'S'], ['G', 'Q', 'V', 'F', 'L', 'N', 'H', 'Z'], ['W', 'M', 'S', 'C', 'J', 'T', 'Q', 'R'], [' ', ' ', 'F', 'H', 'C', 'T', 'W', 'S'], [' ', 'J', 'N', 'F', 'V', 'C', 'Z', 'D'], ['Q', 'F', 'R', 'W', 'D', 'Z', 'G', 'L'], [' ', ' ', ' ', 'P', 'V', 'W', 'B', 'J']]\n",
      "\n",
      "[['Z', 'V', 'T', 'B', 'J', 'G', 'R'], ['L', 'V', 'R', 'J'], ['F', 'Q', 'S'], ['G', 'Q', 'V', 'F', 'L', 'N', 'H', 'Z'], ['W', 'M', 'S', 'C', 'J', 'T', 'Q', 'R'], ['F', 'H', 'C', 'T', 'W', 'S'], ['J', 'N', 'F', 'V', 'C', 'Z', 'D'], ['Q', 'F', 'R', 'W', 'D', 'Z', 'G', 'L'], ['P', 'V', 'W', 'B', 'J']]\n",
      "\n",
      "[['Z', 'H', 'J', 'G', 'C', 'H', 'J', 'V', 'F', 'F', 'W', 'N', 'M', 'S', 'R', 'Z', 'V', 'D', 'Z', 'R', 'J'], ['S', 'T', 'Q', 'T'], ['Q', 'N', 'G', 'J', 'R', 'F', 'V', 'B', 'D', 'Z', 'Q', 'F', 'V', 'W', 'W'], ['V'], ['C'], ['C'], ['J', 'S', 'R'], ['L', 'B', 'T', 'F'], ['L', 'L', 'G', 'P', 'W', 'Q']]\n",
      "[['Q', 'V', 'W', 'Z', 'W', 'H', 'C', 'C', 'T', 'P', 'T', 'G', 'V', 'Q', 'Z', 'N', 'F', 'S', 'D', 'J', 'W'], ['Z', 'G', 'V', 'S'], ['F', 'L', 'C', 'T', 'M', 'Q', 'V', 'Q', 'R', 'R', 'R', 'L', 'F', 'L', 'J'], ['J'], ['R'], ['W'], ['H', 'V', 'B'], ['G', 'B', 'F', 'J'], ['S', 'F', 'D', 'Z', 'N', 'J']]\n",
      "\n",
      "part 1: ZSQVCCJLL\n",
      "part 2: QZFJRWHGS\n"
     ]
    }
   ],
   "source": [
    "d5_list = []\n",
    "crates = [[] for x in range(9)]\n",
    "crates_2 = [[] for x in range(9)]\n",
    "with open(r'./day_5/input.txt') as file:\n",
    "    for count, line in enumerate(file):\n",
    "        d5_list.append(line)\n",
    "\n",
    "i = 0\n",
    "while d5_list[i][1] != '1':\n",
    "    k=1\n",
    "    for j in range(9):\n",
    "        if d5_list[i][k] != \"\":\n",
    "            crates[j].append(d5_list[i][k])\n",
    "        k += 4\n",
    "    i+=1\n",
    "print(f'{crates}\\n')\n",
    "i = 0\n",
    "for element in crates:\n",
    "    for value in element:\n",
    "        crates_2[i].append(value)\n",
    "    i += 1\n",
    "for element in crates:\n",
    "    while ' ' in element:\n",
    "        element.remove(' ')\n",
    "for element in crates_2:\n",
    "    while ' ' in element:\n",
    "        element.remove(' ')\n",
    "print(f'{crates}\\n')\n",
    "\n",
    "for element in d5_list:\n",
    "    if element[0][0] == 'm':\n",
    "        element = element.rstrip()\n",
    "        action = element.split(' ')\n",
    "        holder = []\n",
    "        for i in range(int(action[1])):\n",
    "            crates[int(action[-1])-1].insert(0,crates[int(action[3])-1].pop(0))\n",
    "            holder.insert(0,crates_2[int(action[3])-1].pop(0))\n",
    "        while len(holder) != 0:\n",
    "            crates_2[int(action[-1])-1].insert(0,holder.pop(0))\n",
    "        # part 2\n",
    "\n",
    "print(f'{crates}\\n{crates_2}\\n')\n",
    "top_box_2 = ''\n",
    "top_box = ''\n",
    "for box in crates:\n",
    "    top_box += box[0]\n",
    "for box in crates_2:\n",
    "    top_box_2 += box[0]\n",
    "print(f'part 1: {top_box}\\npart 2: {top_box_2}')"
   ]
  },
  {
   "cell_type": "markdown",
   "metadata": {},
   "source": [
    "## Day 6\n",
    "### Part 1"
   ]
  },
  {
   "cell_type": "code",
   "execution_count": 539,
   "metadata": {},
   "outputs": [],
   "source": [
    "with open(r'./day_6/input.txt') as file:\n",
    "    for count, line in enumerate(file):\n",
    "        line = line.rstrip()\n",
    "        i = 0\n",
    "        j = 4\n",
    "        k = 14\n",
    "        check_set_1 = set(line[:j])\n",
    "        check_set_2 = set(line[:k])\n",
    "        while len(check_set_1) != 4:\n",
    "            i += 1\n",
    "            j += 1\n",
    "            check_list_1 = line[j-4:j]\n",
    "            check_set_1 = set(check_list_1)\n",
    "        while len(check_set_2) != 14:\n",
    "            k += 1\n",
    "            check_list_2 = line[k-14:k]\n",
    "            check_set_2 = set(check_list_2)\n",
    "            \n",
    "\n"
   ]
  },
  {
   "cell_type": "code",
   "execution_count": 540,
   "metadata": {},
   "outputs": [
    {
     "name": "stdout",
     "output_type": "stream",
     "text": [
      "Part 1: 1658\n",
      "Part 2: 2260\n"
     ]
    }
   ],
   "source": [
    "print(f'Part 1: {j}\\nPart 2: {k}')"
   ]
  },
  {
   "cell_type": "markdown",
   "metadata": {},
   "source": [
    "## Day 7\n",
    "\n",
    "### Part 1"
   ]
  },
  {
   "cell_type": "code",
   "execution_count": 541,
   "metadata": {},
   "outputs": [],
   "source": [
    "#import sys\n",
    "#sys.setrecursionlimit(50000)\n",
    "\n",
    "class Node(object):\n",
    "    def __init__(self, data, size= 0):\n",
    "        self.data = data\n",
    "        self.size = size\n",
    "        self.parent = None\n",
    "        self.children = []\n",
    "\n",
    "    def add_child(self, obj):\n",
    "        self.children.append(obj)\n",
    "        obj.parent = self\n",
    "\n",
    "\n",
    "    def __repr__(self):\n",
    "        if self.children:\n",
    "            print_data = \"Node \" + repr(self.data) + \" \" + repr(self.size) + \" ↴\" + \"\\n\"\n",
    "            indent = \"    \"\n",
    "            for child in self.children:\n",
    "              for line in repr(child).splitlines():\n",
    "                print_data += indent + line + \"\\n\"\n",
    "            return print_data\n",
    "        else:\n",
    "            return \"Node \" + repr(self.data) + \" Size \" + repr(self.size)\n",
    "\n",
    "def set_sizes(node):\n",
    "\n",
    "    if node.children:\n",
    "        for child in node.children:\n",
    "            node.size += set_sizes(child)\n",
    "        return node.size\n",
    "    else:\n",
    "        return node.size\n",
    "\n",
    "def d7_part1(node, size_sum):\n",
    "    if node.children:\n",
    "        for child in node.children:\n",
    "            if child.children:\n",
    "                size_sum = d7_part1(child, size_sum)\n",
    "            else:\n",
    "                pass\n",
    "        if node.size <= 100000:\n",
    "            size_sum += node.size\n",
    "        return size_sum\n",
    "    else:\n",
    "        return 0 \n",
    "\n",
    "\n",
    "def d7_part2(node, minimum_limit, current_minmum):\n",
    "    if node.children:\n",
    "        for child in node.children:\n",
    "            if child.children:\n",
    "                current_minmum = d7_part2(child, minimum_limit, current_minmum)\n",
    "            else:\n",
    "                pass\n",
    "        if node.size >= minimum_limit and node.size < current_minmum:\n",
    "            current_minmum = node.size\n",
    "        return current_minmum\n",
    "    else:\n",
    "        return current_minmum"
   ]
  },
  {
   "cell_type": "code",
   "execution_count": 542,
   "metadata": {},
   "outputs": [
    {
     "name": "stdout",
     "output_type": "stream",
     "text": [
      "free space: 25195167 min limit: 4804833\n"
     ]
    }
   ],
   "source": [
    "directory = []\n",
    "with open(r'./day_7/input.txt') as file:\n",
    "    for count, line in enumerate(file):\n",
    "        directory.append(line.rstrip().split(' '))\n",
    "\n",
    "\n",
    "\n",
    "root = Node(directory[0][2])\n",
    "current_node = root\n",
    "max_val = 0\n",
    "for element in directory:\n",
    "    # dir\n",
    "    if element[0] == 'dir':\n",
    "        hold_list = []\n",
    "        # check if directory already in child list\n",
    "        for child in current_node.children:\n",
    "            hold_val = child.data\n",
    "            hold_list.append(hold_val)\n",
    "        # if not in the child list add it\n",
    "        if element[1] not in hold_list:\n",
    "            current_node.add_child(Node(element[1]))\n",
    "    # action\n",
    "    elif element[0] == '$': \n",
    "        # if cd\n",
    "        if element[1] == 'cd':\n",
    "            # set current node to parent\n",
    "            if element[2] == '..':\n",
    "                current_node = current_node.parent\n",
    "            # if  root pass\n",
    "            elif element[2] == '/':\n",
    "                pass\n",
    "            # else\n",
    "            else:\n",
    "                # change current node to child in child list\n",
    "                for child in current_node.children:\n",
    "                    if child.data == element[2]:\n",
    "                        current_node = child\n",
    "        # is ls then pass\n",
    "        else:\n",
    "            pass\n",
    "    # reached file, set child as leaf node with data as name and size as size\n",
    "    else:\n",
    "        current_node.add_child(Node(element[1],int(element[0])))\n",
    "\n",
    "# set sizes to all directories\n",
    "set_sizes(root)\n",
    "day_7_part_1 = d7_part1(root, max_val)\n",
    "free_space = 70000000 - root.size\n",
    "minimum_limit =  30000000 -free_space \n",
    "print(f'free space: {free_space} min limit: {minimum_limit}')\n",
    "day_7_part_2 = d7_part2(root, minimum_limit, free_space)"
   ]
  },
  {
   "cell_type": "code",
   "execution_count": 543,
   "metadata": {},
   "outputs": [
    {
     "name": "stdout",
     "output_type": "stream",
     "text": [
      "Part 1: 1297683\n",
      "Part 2: 5756764\n"
     ]
    }
   ],
   "source": [
    "print(f'Part 1: {day_7_part_1}\\nPart 2: {day_7_part_2}')"
   ]
  }
 ],
 "metadata": {
  "interpreter": {
   "hash": "aee8b7b246df8f9039afb4144a1f6fd8d2ca17a180786b69acc140d282b71a49"
  },
  "kernelspec": {
   "display_name": "Python 3.10.5 64-bit",
   "language": "python",
   "name": "python3"
  },
  "language_info": {
   "codemirror_mode": {
    "name": "ipython",
    "version": 3
   },
   "file_extension": ".py",
   "mimetype": "text/x-python",
   "name": "python",
   "nbconvert_exporter": "python",
   "pygments_lexer": "ipython3",
   "version": "3.10.5"
  },
  "orig_nbformat": 4
 },
 "nbformat": 4,
 "nbformat_minor": 2
}
